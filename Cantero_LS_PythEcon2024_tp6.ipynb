{
 "cells": [
  {
   "cell_type": "markdown",
   "id": "514c6d58",
   "metadata": {},
   "source": [
    "## Curso Python para Economistas\n",
    "### Trabajo Práctico Nº 6 (integrador)"
   ]
  },
  {
   "cell_type": "markdown",
   "id": "83f79c40",
   "metadata": {
    "tags": []
   },
   "source": [
    "### Fecha de entrega:\n",
    "Martes 12/11 a las 23:59 hs\\*\n",
    "\n",
    "\\* *tienen una semana más que lo usual para resolver este TP*"
   ]
  },
  {
   "cell_type": "markdown",
   "id": "eb682638",
   "metadata": {},
   "source": [
    "### Modalidad de entrega y trabajo\n",
    "- Este TP es **individual**.\n",
    "- Un repositorio **privado** debe ser creado en GitHub para el TP, y dar acceso a los 5 profesores. Los nombres de usuarios son: `belenmichel`, `rbonazzola`, `Queeno11`, `agoszulli` y `pilarch`.\n",
    "- Cuando hayan hecho ese último commit, copien la URL para clonar su repositorio y péguenla en\n",
    "[este Google Sheet](https://docs.google.com/spreadsheets/d/1byFOKyV7UnBuPuF9X2JWFVOUZX36b2_CEDw9ColP7VQ/edit?usp=sharing), en la hoja del TP6. Al ser un repositorio privado, solo los colaboradores habilitados podrán clonarlo.\n",
    "- Al finalizar el trabajo práctico deben hacer un último commit y push en su repositorio de GitHub con el mensaje `\"Entrega final del TP6\"`. Antes de la fecha y hora de entrega pueden hacer cuantos cambios quieran en el repositorio, pero luego de la hora de corte no deben hacer más cambios. Si un commit con el mensaje anterior se realiza luego de la hora de entrega, se supondrá que la entrega tardía fue intencional y se utilizarán los días de gracia. La última versión en el repositorio es la que será evaluada. Para esto es importante que no completen el Google Sheet hasta que no hayan finalizado el TP, como tampoco hacer pushes posteriores a la entrega.\n",
    "- Comentar su código y utilizar buenas prácticas en el estilo del mismo tendrá un peso en la nota de este trabajo (1pto por inciso). Pueden utilizar esta [guía de estilo](https://recursospython.com/pep8es.pdf) como referencia."
   ]
  },
  {
   "cell_type": "markdown",
   "id": "1e41e7ba",
   "metadata": {},
   "source": [
    "## Consignas"
   ]
  },
  {
   "cell_type": "markdown",
   "id": "e4042264-4957-47c9-9470-81bf395f8037",
   "metadata": {},
   "source": [
    "#### Parte 1:\n",
    "Esta parte del trabajo es abierta: los detalles de las consignas no están definidas al 100% y deberán usar sus intereses y criterios para guiarlos.\n",
    "El objetivo de esta parte es que pongan a prueba las habilidades desarrolladas para conectarse a una API REST que sea de su interés. Nuestra sugerencia es que comiencen a pensar en datos con los cuales les gustaría trabajar en sus tesis y que exploren nuevas páginas web y datos con los que no han trabajado anteriormente. "
   ]
  },
  {
   "cell_type": "markdown",
   "id": "083c757d",
   "metadata": {},
   "source": [
    "1. **Elección de una API REST** (5 puntos): Elijan una API pública que sea de interés para ustedees y justifiquen por qué les resulta interesante trabajar con los datos de esa API. Detallen la pregunta de investigación que les gustaría responder con esos datos. \n",
    "\n",
    "   Aquí tienen algunas sugerencias:\n",
    "\n",
    "- [API de datos.gob.ar](https://datos.gob.ar/apis) (datos de Argentina)\n",
    "- [IDB API](https://mydata.iadb.org/) (indicadores económicos y + de America Latina y el Caribe)\n",
    "- [World Bank API](https://data.worldbank.org/indicator) (indicadores económicos globales)\n",
    "- O pueden buscar otras APIs en [este link](https://github.com/public-apis/)"
   ]
  },
  {
   "cell_type": "markdown",
   "id": "2403d042-6c35-4388-9881-a586d10d97fe",
   "metadata": {},
   "source": [
    "Respuesta: uso la API de Series de Tiempo AR, ayudándome del generador de URLs (https://datosgobar.github.io/series-tiempo-ar-call-generator/) que me permite ver todas las series disponibles e identificar muy fácilmente la URL deseada.\n",
    "Elijo la serie del Índice del Costo de la Construcción por gran componente, que en realidad está compuesto por 3 series de tiempo: una para el componente materiales, otra para la mano de obra y otra que indica el nivel general. \n",
    "Me interesa ver cómo fue la variación temporal de estas tres, especialmente ver la diferencia en la variación de cada uno de los componentes, ya que esto nos puede dar indicios de la evolución de los salarios de los empleados de la construcción, así como el peso relativo de estos en los costos totales del rubro."
   ]
  },
  {
   "cell_type": "markdown",
   "id": "5e08e446-e87a-4388-ac8b-e7d70250094c",
   "metadata": {},
   "source": [
    "2. **Conectar con la API y extraer datos** (5 puntos)\n",
    "    - Hagan una solicitud a la API utilizando el módulo `requests` de Python.\n",
    "    - Definan parámetros adecuados para obtener un conjunto de datos relevante para el uso que has planteado.\n",
    "    - Asegúrense de manejar correctamente el caso en que la solicitud falle (por ejemplo, con un mensaje de error o un valor predeterminado)."
   ]
  },
  {
   "cell_type": "code",
   "execution_count": 1,
   "id": "3630a694-d8aa-4654-845f-c003af6ba29e",
   "metadata": {},
   "outputs": [],
   "source": [
    "import requests\n",
    "import pandas as pd"
   ]
  },
  {
   "cell_type": "code",
   "execution_count": 2,
   "id": "763dbe6c-024e-4d8c-b5b8-7b8aa14f609c",
   "metadata": {},
   "outputs": [],
   "source": [
    "def get_costo_construccion(componente):\n",
    "    # Me creo un diccionario con los valores que puede tomar componente como key y el texto de la url correspondiente como value\n",
    "    componentes = {\n",
    "        \"Mano de obra\": \"aRxVTe\",\n",
    "        \"Materiales\": \"PvexBm\",\n",
    "        \"Nivel general\": \"HydoB9\"\n",
    "    }\n",
    "\n",
    "    # Como la forma de escribir el componente puede variar, me aseguro de que sea accesible incluso cuando no me acuerdo \n",
    "    # exactamente como escribirlos o cuáles son los valores posibles\n",
    "    if componente in componentes:\n",
    "        #extraigo el texto a insertar en la url correspondiente al valor de componente que pasé como parámetro al llamar a la función\n",
    "        text = componentes[componente]\n",
    "    else:\n",
    "        raise ValueError(\"Componente no válido. Debe ser 'Mano de obra', 'Materiales' o 'Nivel general'.\")\n",
    "\n",
    "    # Construyo la url de acuerdo al componente solicitado\n",
    "    url = f\"https://apis.datos.gob.ar/series/api/series?ids=Costo_construccion_{text}\"\n",
    "\n",
    "    # Manejo de errores: si la solicitud se procesó bien, importo la data. Sino, indico de qué error se trata\n",
    "    try:\n",
    "        response = requests.get(url)\n",
    "        if response.status_code == 200:\n",
    "            indices = response.json()  # Obtener los datos de la respuesta\n",
    "            if 'data' in indices and len(indices['data'])>0:\n",
    "                return indices['data']\n",
    "            else:\n",
    "                return \"No hay datos disponibles\"\n",
    "        else:\n",
    "            return \"Error en la solicitud\"\n",
    "    except requests.RequestException:\n",
    "        return \"Error de conexión\"\n"
   ]
  },
  {
   "cell_type": "code",
   "execution_count": null,
   "id": "037a1604-e706-46f3-900f-f3820b350f1b",
   "metadata": {},
   "outputs": [],
   "source": [
    "# Llamo a la función y me guardo la respuesta (que viene por el return) en data\n",
    "indices_mdo = get_costo_construccion(\"Mano de obra\")\n",
    "indices_mat = get_costo_construccion(\"Materiales\")\n",
    "indices_gral = get_costo_construccion(\"Nivel general\")"
   ]
  },
  {
   "cell_type": "code",
   "execution_count": null,
   "id": "9fc13bb3-f1db-4433-a15f-f0eeea11ea2a",
   "metadata": {},
   "outputs": [],
   "source": [
    "print(indices_mdo)\n",
    "print(type(indices_mdo))"
   ]
  },
  {
   "cell_type": "markdown",
   "id": "8835a6ff",
   "metadata": {},
   "source": [
    "3. a) **Convertir los datos a un DataFrame de pandas** (5 puntos)\n",
    "- Conviertan la respuesta de la API a un `DataFrame` de pandas.\n",
    "- Verifiquen el formato de los datos y asegúrense de que están listos para su análisis.\n",
    "- Incluyan las columnas necesarias para identificar el origen de los datos (por ejemplo, país, fecha, nombre del activo, etc.).\n",
    "\n",
    "3. b) **Realizar una transformación de los datos** (5 puntos)\n",
    "\n",
    "Apliquen alguna transformación relevante, como:\n",
    "- Preservar sólo datos de un período específico o de un lugar específico.\n",
    "- Crear una columna calculada (por ejemplo, una tasa de cambio o promedio).\n",
    "- Convertir unidades de medida o redondear valores.\n",
    "- Eliminar registros con datos faltantes."
   ]
  },
  {
   "cell_type": "code",
   "execution_count": null,
   "id": "57ec5ddd",
   "metadata": {},
   "outputs": [],
   "source": [
    "df_mdo = pd.DataFrame(indices_mdo, columns=[\"fecha\", \"indice_mdo\"])\n",
    "df_mat = pd.DataFrame(indices_mat, columns=[\"fecha\", \"indice_mat\"])\n",
    "df_gral = pd.DataFrame(indices_gral, columns=[\"fecha\", \"indice_gral\"])"
   ]
  },
  {
   "cell_type": "code",
   "execution_count": null,
   "id": "828b2a41",
   "metadata": {},
   "outputs": [],
   "source": [
    "df_indices = df_mdo.merge(df_mat, on=\"fecha\", how=\"inner\").merge(df_gral, on=\"fecha\", how=\"inner\")"
   ]
  },
  {
   "cell_type": "code",
   "execution_count": null,
   "id": "ee3902f2-c6bb-4495-a3da-ea30d7b05ee7",
   "metadata": {},
   "outputs": [],
   "source": [
    "df_indices.head(5)"
   ]
  },
  {
   "cell_type": "code",
   "execution_count": null,
   "id": "dcfb440f-a028-42bc-87ef-2da5ceee401e",
   "metadata": {},
   "outputs": [],
   "source": [
    "print(df_mdo.shape)\n",
    "print(df_mat.shape)\n",
    "print(df_gral.shape) \n",
    "print(df_indices.shape) \n",
    "# Veo que los 3 df originales tienen la misma cantidad de filas que el combinado, por lo que no perdí ninguna fecha"
   ]
  },
  {
   "cell_type": "code",
   "execution_count": null,
   "id": "c2fc10e2-8093-46a0-8150-0bd873c12c52",
   "metadata": {},
   "outputs": [],
   "source": [
    "for column in df_indices.columns:\n",
    "    print(f\"Columna: {column}, Tipo: {df_indices[column].dtype}\")\n",
    "\n",
    "# Veo que la columna de fecha está como string, por lo que la transformo a formato fecha\n",
    "df_indices[\"fecha\"] = pd.to_datetime(df_indices[\"fecha\"])"
   ]
  },
  {
   "cell_type": "code",
   "execution_count": null,
   "id": "06eaa873-24a9-416e-b416-5085b86849b2",
   "metadata": {
    "scrolled": true
   },
   "outputs": [],
   "source": [
    "for column in df_indices.columns:\n",
    "    print(f\"Columna: {column}, Tipo: {df_indices[column].dtype}\")"
   ]
  },
  {
   "cell_type": "code",
   "execution_count": null,
   "id": "a38177bb-d55a-47dc-ad00-0362663f0a25",
   "metadata": {},
   "outputs": [],
   "source": [
    "# Los datos son todos de un mismo origen, pero si se quisiera unir los índices de otros países luego al mismo df para hacer comparaciones\n",
    "# podría ser útil incluir una columna llamada \"pais\" que identifique a las observaciones con valor \"argentina\". Esto sería así\n",
    "df_indices[\"pais\"]=\"Argentina\"\n",
    "df_indices.head(5)"
   ]
  },
  {
   "cell_type": "code",
   "execution_count": null,
   "id": "ed9b68a6-eeb5-4658-b6c9-14b81e506639",
   "metadata": {},
   "outputs": [],
   "source": [
    "df_indices[\"var_mensual_mdo\"] = (((df_indices[\"indice_mdo\"]/df_indices[\"indice_mdo\"].shift(1))-1)*100).round(2)\n",
    "df_indices[\"var_mensual_mat\"] = (((df_indices[\"indice_mat\"]/df_indices[\"indice_mat\"].shift(1))-1)*100).round(2)\n",
    "df_indices[\"var_mensual_gral\"] = (((df_indices[\"indice_gral\"]/df_indices[\"indice_gral\"].shift(1))-1)*100).round(2)\n",
    "\n",
    "#df_indices[\"var_mensual_n_mdo\"] = (df_indices[\"indice_mdo\"]-df_indices[\"indice_mdo\"].shift(1))\n",
    "#df_indices[\"var_mensual_n_mat\"] = (df_indices[\"indice_mat\"]-df_indices[\"indice_mat\"].shift(1))\n",
    "#df_indices[\"var_mensual_n_gral\"] = (df_indices[\"indice_gral\"]-df_indices[\"indice_gral\"].shift(1))\n",
    "\n",
    "df_indices[\"incidencia_mdo\"] = (df_indices[\"var_mensual_mdo\"]*df_indices[\"indice_mdo\"].shift(1))/(df_indices[\"indice_gral\"].shift(1))\n",
    "df_indices[\"incidencia_mat\"] = (df_indices[\"var_mensual_mat\"]*df_indices[\"indice_mat\"].shift(1))/(df_indices[\"indice_gral\"].shift(1))\n",
    "\n",
    "# incidencia = var / t-1 * total (t-1)"
   ]
  },
  {
   "cell_type": "code",
   "execution_count": null,
   "id": "71e9f42e-7006-4cee-b3f7-668befd302b2",
   "metadata": {},
   "outputs": [],
   "source": [
    "df_indices.head(5)"
   ]
  },
  {
   "cell_type": "markdown",
   "id": "51a62dd8-91db-46b0-a59c-be64783cfd18",
   "metadata": {},
   "source": [
    "4. **Generar una Visualización de los Datos** (5 puntos)\n",
    "    - Usen `matplotlib` o `seaborn` para crear un gráfico relevante, como:\n",
    "        - Una serie de tiempo (si tienen datos temporales),\n",
    "        - Un gráfico de barras para comparar categorías,\n",
    "        - Un diagrama de dispersión o histograma, dependiendo de los datos,\n",
    "        - Un boxplot,\n",
    "        - Etc.\n",
    "    - Asegúrense de etiquetar e incluir un título descriptivo en el gráfico."
   ]
  },
  {
   "cell_type": "code",
   "execution_count": null,
   "id": "17da416e-04b0-4176-8a06-ff2a97d9bdca",
   "metadata": {},
   "outputs": [],
   "source": [
    "import matplotlib.pyplot as plt\n",
    "%matplotlib inline\n",
    "import numpy as np"
   ]
  },
  {
   "cell_type": "code",
   "execution_count": null,
   "id": "e8287ddf-c928-48f8-a073-44ddb0260a3f",
   "metadata": {},
   "outputs": [],
   "source": [
    "import locale\n",
    "\n",
    "# Configurar el idioma en español\n",
    "locale.setlocale(locale.LC_TIME, 'Spanish_Spain.1252')  # Para sistemas Linux y Mac\n",
    "# Si estás en Windows, prueba con 'Spanish_Spain.1252'"
   ]
  },
  {
   "cell_type": "code",
   "execution_count": null,
   "id": "8275925d-2fe4-41dc-9ab9-b48b28f9c99f",
   "metadata": {},
   "outputs": [],
   "source": [
    "# Para graficar la serie de tiempo sería más útil tener una variable con el mes y el año, eliminando el día pues la medición corresponde\n",
    "# siempre al mismo día del mes\n",
    "x = df_indices['fecha'].dt.strftime('%b %Y')\n",
    "\n",
    "y1 = df_indices[\"indice_mdo\"]\n",
    "y2 = df_indices[\"indice_mat\"]\n",
    "y3 = df_indices[\"indice_gral\"]"
   ]
  },
  {
   "cell_type": "code",
   "execution_count": null,
   "id": "14a3424a-0638-4dc1-8798-c3953180e778",
   "metadata": {},
   "outputs": [],
   "source": [
    "plt.plot(x, y1, color='C4')\n",
    "plt.plot(x, y2, color='green')\n",
    "plt.plot(x, y3, color='DarkBlue')\n",
    "\n",
    "plt.xlabel('Período', color='0.2')\n",
    "plt.ylabel('Índice', color='0.2')\n",
    "\n",
    "\n",
    "plt.title(\"Índice de Costo de la Construcción por gran componente\", \n",
    "          fontdict={\n",
    "              'size': 14,\n",
    "              'color': 'black',\n",
    "              'weight': 'bold'\n",
    "})\n",
    "\n",
    "\n",
    "plt.gca().spines['top'].set_visible(False) \n",
    "plt.gca().spines['right'].set_visible(False)\n",
    "\n",
    "x_ticks = x[::6]\n",
    "plt.xticks(x_ticks, rotation=45, horizontalalignment=\"right\")\n",
    "\n",
    "plt.show()"
   ]
  },
  {
   "cell_type": "code",
   "execution_count": null,
   "id": "3bd5113a-daff-42dc-983d-4009f43caef5",
   "metadata": {},
   "outputs": [],
   "source": [
    "# Para graficar la serie de tiempo sería más útil tener una variable con el mes y el año, eliminando el día pues la medición corresponde\n",
    "# siempre al mismo día del mes\n",
    "x = df_indices['fecha'].dt.strftime('%b %Y')\n",
    "\n",
    "y4 = df_indices[\"var_mensual_mdo\"]\n",
    "y5 = df_indices[\"var_mensual_mat\"]\n",
    "y6 = df_indices[\"var_mensual_gral\"]"
   ]
  },
  {
   "cell_type": "code",
   "execution_count": null,
   "id": "15c4955d-8a24-42b5-a702-aef55ac4576b",
   "metadata": {},
   "outputs": [],
   "source": [
    "plt.bar(x, y4, color='C4', label=\"Mano de obra\")\n",
    "plt.bar(x, y5, color='green', label=\"Materiales\")\n",
    "#plt.bar(x, y6, color='DarkBlue', label=\"Nivel general\")\n",
    "\n",
    "plt.xlabel('Período', color='0.2')\n",
    "plt.ylabel('Índice', color='0.2')\n",
    "\n",
    "\n",
    "plt.title(\"Índice de Costo de la Construcción por gran componente (Var. mensual)\", \n",
    "          fontdict={\n",
    "              'size': 14,\n",
    "              'color': 'black',\n",
    "              'weight': 'bold'\n",
    "})\n",
    "\n",
    "\n",
    "plt.gca().spines['top'].set_visible(False) \n",
    "plt.gca().spines['right'].set_visible(False)\n",
    "\n",
    "x_ticks = x[::6]\n",
    "plt.xticks(x_ticks, rotation=45, horizontalalignment=\"right\")\n",
    "\n",
    "plt.legend(loc='upper right')\n",
    "\n",
    "plt.show()"
   ]
  },
  {
   "cell_type": "code",
   "execution_count": null,
   "id": "4c53dfc6-7f80-4fef-a300-07a0f8fa7eed",
   "metadata": {},
   "outputs": [],
   "source": [
    "import seaborn as sns"
   ]
  },
  {
   "cell_type": "code",
   "execution_count": null,
   "id": "86a871a4-a00e-44ef-b612-2e49d5728955",
   "metadata": {},
   "outputs": [],
   "source": [
    "sns.set_theme(style=\"whitegrid\", palette=\"pastel\")"
   ]
  },
  {
   "cell_type": "code",
   "execution_count": null,
   "id": "0eb61cf2-23ae-49db-bb0d-229c8b9174b1",
   "metadata": {},
   "outputs": [],
   "source": [
    "df_indices_long = pd.melt(df_indices, id_vars=\"fecha\", value_vars=[\"indice_mdo\", \"indice_mat\", \"indice_gral\"])"
   ]
  },
  {
   "cell_type": "code",
   "execution_count": null,
   "id": "791aaba4-4413-4b5a-a810-cf3b30f154e9",
   "metadata": {},
   "outputs": [],
   "source": [
    "df_indices_long"
   ]
  },
  {
   "cell_type": "code",
   "execution_count": null,
   "id": "eff30305-bcd0-48e0-aed5-84a7d9fecd7d",
   "metadata": {},
   "outputs": [],
   "source": [
    "g = sns.lineplot(\n",
    "        data=df_indices_long, \n",
    "        x=\"fecha\", y=\"value\", \n",
    "        hue = \"variable\"\n",
    "    );\n",
    "g = (g.set_axis_labels(\"Período\", \"Índice\"))\n",
    "plt.title(\"Índice de Costo de la Construcción por gran componente (Var. mensual)\", \n",
    "          fontdict={\n",
    "              'size': 14,\n",
    "              'color': 'black',\n",
    "              'weight': 'bold'\n",
    "})\n",
    "plt.show(g)"
   ]
  },
  {
   "cell_type": "code",
   "execution_count": null,
   "id": "ead7ed19-f63d-4e76-a008-b16c1dfbea62",
   "metadata": {},
   "outputs": [],
   "source": [
    "df_vars_long = pd.melt(df_indices, id_vars=\"fecha\", value_vars=[\"var_mensual_mdo\", \"var_mensual_mat\"])"
   ]
  },
  {
   "cell_type": "code",
   "execution_count": null,
   "id": "915614db-fb2d-41e4-ae2f-8e4075049d54",
   "metadata": {},
   "outputs": [],
   "source": [
    "df_vars_long"
   ]
  },
  {
   "cell_type": "code",
   "execution_count": null,
   "id": "a2c11430-840d-44fc-b91e-d04ecb40d3c0",
   "metadata": {},
   "outputs": [],
   "source": [
    "sns.lineplot(\n",
    "    data=df_vars_long, \n",
    "    x=\"fecha\", y=\"value\", \n",
    "    hue = \"variable\"\n",
    ");\n",
    "plt.show()#hue color de los puntos"
   ]
  },
  {
   "cell_type": "markdown",
   "id": "b331a3aa-bce6-4171-89d0-443ae20a836d",
   "metadata": {},
   "source": [
    "___"
   ]
  },
  {
   "cell_type": "markdown",
   "id": "2f8d04d3-0bd9-4876-a44a-d84fbc647e0f",
   "metadata": {},
   "source": [
    "#### Parte 2:\n",
    "Aquí volvemos a las consignas definidas: vamos a utilizar un informe de ANSES (en formato PDF) así como información disponible en el sitio web de ANSES para resolver los siguientes problemas."
   ]
  },
  {
   "cell_type": "markdown",
   "id": "0034835e",
   "metadata": {},
   "source": [
    "5. (10 puntos) Generar un código que les permita extraer la tabla de número personas con beneficios de desempleo de este informe de ANSES en formato PDF y generar un dataframe de Pandas. Para ello pueden usar la librería `tabula-py` que vimos en clase. Los valores numéricos deben quedar en un tipo de dato numérico."
   ]
  },
  {
   "cell_type": "code",
   "execution_count": null,
   "id": "303b39cb",
   "metadata": {},
   "outputs": [],
   "source": [
    "import tabula"
   ]
  },
  {
   "cell_type": "code",
   "execution_count": null,
   "id": "8b27ebd7-0002-4b0a-8f44-86a060445783",
   "metadata": {},
   "outputs": [],
   "source": [
    "header = [\"provincia\",\n",
    "         \"beneficios\", \n",
    "         \"porcentaje\"]\n",
    "perimetro = (83.99*2.8346456693, 27.02*2.8346456693, 230.22*2.8346456693, 126.08*2.8346456693)\n",
    "columnas = (68.35*2.8346456693, 94.90*2.8346456693, 126.08*2.8346456693)\n",
    "lst_of_df = tabula.read_pdf(\"Informe-Estadisticas-SS-II-Trim-2024.pdf\", output_format='dataframe', \n",
    "                            pages=21, area = perimetro, columns = columnas)"
   ]
  },
  {
   "cell_type": "code",
   "execution_count": null,
   "id": "e93cd0e3",
   "metadata": {},
   "outputs": [],
   "source": [
    "lst_of_df"
   ]
  },
  {
   "cell_type": "code",
   "execution_count": null,
   "id": "0515fe7e-d167-4123-b4b4-ef4ea43054f2",
   "metadata": {},
   "outputs": [],
   "source": [
    "tabla_p21 = lst_of_df[0]\n",
    "tabla_p21.columns = header\n",
    "tabla_p21"
   ]
  },
  {
   "cell_type": "code",
   "execution_count": null,
   "id": "ac17b106",
   "metadata": {},
   "outputs": [],
   "source": [
    "for column in tabla_p21.columns:\n",
    "    print(f\"Columna: {column}, Tipo: {tabla_p21[column].dtype}\")"
   ]
  },
  {
   "cell_type": "code",
   "execution_count": null,
   "id": "8f15a1a0-dbeb-44d1-968d-d0f540a08614",
   "metadata": {},
   "outputs": [],
   "source": [
    "import re\n",
    "regex = r'(\\d+)%'\n",
    "regex = re.compile (regex)\n",
    "\n",
    "def extraer_porcentaje(valor):\n",
    "    match = regex.search(valor)\n",
    "    return match.group(1)  \n",
    "\n",
    "# Uso extraer_porcentaje para reemplazar los valores de la columna \"porcentaje\" por un valor numérico\n",
    "tabla_p21['porcentaje'] = tabla_p21['porcentaje'].apply(extraer_porcentaje)"
   ]
  },
  {
   "cell_type": "code",
   "execution_count": null,
   "id": "d8bd6330-b9b9-4ac6-a951-3bfc4fb6e16b",
   "metadata": {},
   "outputs": [],
   "source": [
    "tabla_p21"
   ]
  },
  {
   "cell_type": "code",
   "execution_count": null,
   "id": "ca065ca7-ee56-44fd-815d-9313e110f224",
   "metadata": {},
   "outputs": [],
   "source": [
    "tabla_p21['beneficios'] = tabla_p21['beneficios'].astype(str)\n",
    "tabla_p21['beneficios'] = tabla_p21['beneficios'].str.replace('.', '', regex=False)\n",
    "\n",
    "# Convertimos a entero (opcional)\n",
    "tabla_p21['beneficios'] = tabla_p21['beneficios'].astype(int)"
   ]
  },
  {
   "cell_type": "code",
   "execution_count": null,
   "id": "47278b33",
   "metadata": {},
   "outputs": [],
   "source": [
    "# Chequeo que la columna \"porcentaje\" haya quedado numérica\n",
    "for column in tabla_p21.columns:\n",
    "    print(f\"Columna: {column}, Tipo: {tabla_p21[column].dtype}\")"
   ]
  },
  {
   "cell_type": "code",
   "execution_count": null,
   "id": "56eb98ef-32c0-4dcf-9158-e9e0aab54eb8",
   "metadata": {},
   "outputs": [],
   "source": [
    "tabla_p21"
   ]
  },
  {
   "cell_type": "markdown",
   "id": "330c12bb",
   "metadata": {},
   "source": [
    "6. (10 puntos) Usando los datos anteriores, generar un mapa coloreado de las provincias de Argentina, donde las provincias con más desempleo estén en tonos de rojo y las provincias con menor desempleo estén en tonos de azul."
   ]
  },
  {
   "cell_type": "code",
   "execution_count": null,
   "id": "320ddfde",
   "metadata": {},
   "outputs": [],
   "source": []
  },
  {
   "cell_type": "code",
   "execution_count": null,
   "id": "5e4ccf6a",
   "metadata": {},
   "outputs": [],
   "source": []
  },
  {
   "cell_type": "code",
   "execution_count": null,
   "id": "c152c471-e0f9-422a-8117-5209e3dab0b7",
   "metadata": {},
   "outputs": [],
   "source": []
  },
  {
   "cell_type": "code",
   "execution_count": null,
   "id": "4e1062d9",
   "metadata": {},
   "outputs": [],
   "source": []
  },
  {
   "cell_type": "markdown",
   "id": "541b0b27",
   "metadata": {},
   "source": [
    "7. (20 puntos) Ahora utilicemos los datos de la siguiente página de ANSES: https://www.anses.gob.ar/oficinas-atencion-al-publico, donde detalla las ubicaciones de las oficinas de atención al público de ANSES. Los datos se muestran en una tabla, la cual está paginada de 1 a 8.\n",
    "\n",
    "Nos encontramos con los siguientes desafíos: si prueban, van a notar que el sitio de ANSES no permite realizar consultas programáticas usando la librería `requests`, como veníamos haciendo. Por esa razón, vamos a tener que cambiar el enfoque: vamos a guardar el archivo HTML de la página localmente, y utilizar BeautifulSoup directamente en el contenido de este archivo (en lugar de hacer un `requests.get` a internet). El otro desafío es que el código HTML cambia con cada página. Deberán guardar un archivo HTML por cada una de las 8 páginas.\n",
    "\n",
    "Finalmente, iteren sobre estos 8 archivos, extrayendo una a una las tablas. Finalmente, concatenaremos los resultados para generar un único dataframe con la información de todas las oficinas en cada fila."
   ]
  },
  {
   "cell_type": "code",
   "execution_count": null,
   "id": "5e79a090",
   "metadata": {},
   "outputs": [],
   "source": []
  },
  {
   "cell_type": "code",
   "execution_count": null,
   "id": "8051af81",
   "metadata": {},
   "outputs": [],
   "source": []
  },
  {
   "cell_type": "code",
   "execution_count": null,
   "id": "a527c091",
   "metadata": {},
   "outputs": [],
   "source": []
  },
  {
   "cell_type": "code",
   "execution_count": null,
   "id": "ab6987d0",
   "metadata": {},
   "outputs": [],
   "source": []
  },
  {
   "cell_type": "markdown",
   "id": "f9962de4",
   "metadata": {},
   "source": [
    "8. (20 puntos) Ahora obtengamos información georreferenciada de las oficinas de ANSES. Para ello hay dos caminos:\n",
    "\n",
    "- a) podemos usar la API de domicilios vista en la clase 6, pasarle las direcciones de la tabla generada en el punto anterior, y obtener la latitud y longitud de tantas oficinas como puedan.\n",
    "- b) Alternativamente, notar que el texto \"Ver el mapa\" de la página apunta a un link de Google Maps que tiene incluidas la latitud y longitud (en la mayoria de los casos, en unos pocos el link no contiene esta información y a esos pueden descartarlos); por lo tanto, pueden también parsear el código HTML de las páginas (por ejemplo, con expresiones regulares, aunque no es la única forma) para así extraer estos valores. Finalmente, teniendo la latitud y longitud, crear una columna de `geometry` como hicimos en el caso de las propiedades del TP5, y con esto generar un Geodataframe.\n",
    "\n",
    "_Ayuda para el camino b): pueden leer el contenido del HTML como texto plano con `.read()` y usar el método de strings `.split`. Notar que la parte de los links contiene una tag `href` que pueden usar para partir el string completo._"
   ]
  },
  {
   "cell_type": "code",
   "execution_count": null,
   "id": "0336a3e0",
   "metadata": {},
   "outputs": [],
   "source": []
  },
  {
   "cell_type": "code",
   "execution_count": null,
   "id": "a6e3515d",
   "metadata": {},
   "outputs": [],
   "source": []
  },
  {
   "cell_type": "code",
   "execution_count": null,
   "id": "8247bfaa-65e2-4c2f-ba53-e89cd08f323c",
   "metadata": {},
   "outputs": [],
   "source": []
  },
  {
   "cell_type": "code",
   "execution_count": null,
   "id": "da8edf3f",
   "metadata": {},
   "outputs": [],
   "source": []
  },
  {
   "cell_type": "markdown",
   "id": "2fcf877d-6022-433a-ba82-92d840b783ac",
   "metadata": {},
   "source": [
    "9. (15 puntos) Finalmente, generar un widget que nos permita elegir la provincia, y nos muestre un mapa de la provincia con las ubicaciones de las oficinas de ANSES del punto anterior (el resultado de superponer dos o más datasets georreferenciados en un mapa es lo que se llama un _overlay_)."
   ]
  },
  {
   "cell_type": "code",
   "execution_count": null,
   "id": "7ab70d22-f15a-4122-9594-3a25b2c7e335",
   "metadata": {},
   "outputs": [],
   "source": []
  },
  {
   "cell_type": "code",
   "execution_count": null,
   "id": "dbc55546-fb40-481d-8e05-43fd9681d0ab",
   "metadata": {},
   "outputs": [],
   "source": []
  },
  {
   "cell_type": "code",
   "execution_count": null,
   "id": "738da9ef-5a26-45c9-adae-be23df647339",
   "metadata": {},
   "outputs": [],
   "source": []
  }
 ],
 "metadata": {
  "kernelspec": {
   "display_name": "Python 3 (ipykernel)",
   "language": "python",
   "name": "python3"
  },
  "language_info": {
   "codemirror_mode": {
    "name": "ipython",
    "version": 3
   },
   "file_extension": ".py",
   "mimetype": "text/x-python",
   "name": "python",
   "nbconvert_exporter": "python",
   "pygments_lexer": "ipython3",
   "version": "3.12.3"
  },
  "varInspector": {
   "cols": {
    "lenName": 16,
    "lenType": 16,
    "lenVar": 40
   },
   "kernels_config": {
    "python": {
     "delete_cmd_postfix": "",
     "delete_cmd_prefix": "del ",
     "library": "var_list.py",
     "varRefreshCmd": "print(var_dic_list())"
    },
    "r": {
     "delete_cmd_postfix": ") ",
     "delete_cmd_prefix": "rm(",
     "library": "var_list.r",
     "varRefreshCmd": "cat(var_dic_list()) "
    }
   },
   "types_to_exclude": [
    "module",
    "function",
    "builtin_function_or_method",
    "instance",
    "_Feature"
   ],
   "window_display": false
  }
 },
 "nbformat": 4,
 "nbformat_minor": 5
}
